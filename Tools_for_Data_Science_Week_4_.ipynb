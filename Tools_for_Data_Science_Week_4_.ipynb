{
  "cells": [
    {
      "cell_type": "markdown",
      "metadata": {
        "collapsed": true,
        "id": "BjmM4dKD2utc"
      },
      "source": [
        "# My Jupyter Notebook on IBM Watson Studio"
      ]
    },
    {
      "cell_type": "markdown",
      "metadata": {
        "id": "KrXqG3FY2uth"
      },
      "source": [
        "<b> Priyanshu Kapoor </b> \n",
        "\n",
        "Student"
      ]
    },
    {
      "cell_type": "markdown",
      "metadata": {
        "id": "o_qwMzal2uti"
      },
      "source": [
        "_Data Science leads us to the future. And I want my place in the future. That is why I am interested in DS._"
      ]
    },
    {
      "cell_type": "markdown",
      "metadata": {
        "id": "TaPdbl8O2utj"
      },
      "source": [
        "### The next cell will calculate how much money I will pay Coursera as tution fee for course  \"data Science\":"
      ]
    },
    {
      "cell_type": "code",
      "execution_count": 1,
      "metadata": {
        "scrolled": true,
        "colab": {
          "base_uri": "https://localhost:8080/"
        },
        "id": "Rxz2yk4T2utk",
        "outputId": "7d65a382-ee8d-4c79-be7a-4d13348f5cdf"
      },
      "outputs": [
        {
          "output_type": "stream",
          "name": "stdout",
          "text": [
            "For Data Science course you will pay in total 152 $.\n"
          ]
        }
      ],
      "source": [
        "import math                #importing math for math.ceil() function (rounding up).\n",
        "MonthlyFee = 38            # monthly fee in USD\n",
        "CourseLength = 11          # course length according to Coursera in month\n",
        "MyPace = 3                 # the coefficient which show how much times faster you can pass the course\n",
        "TotalFee = math.ceil(CourseLength/MyPace)*MonthlyFee # counting the fee\n",
        "print('For Data Science course you will pay in total',TotalFee,'$.') # output the values."
      ]
    },
    {
      "cell_type": "markdown",
      "metadata": {
        "id": "4a7HS8162utn"
      },
      "source": [
        "Because: \n",
        "1. There is the chance info is usefull\n",
        "2. It is not a lot for 11 months \n",
        "\n",
        "I think it is fair enough\n",
        "***\n",
        "To see how much will you pay, run this code:\n",
        "```python\n",
        "import math                #importing math for math.ceil() function (rounding up).\n",
        "MonthlyFee = 38            # monthly fee in USD\n",
        "CourseLength = 11          # course length according to Coursera in month\n",
        "MyPace = 3                 # the coefficient which show how much times faster you can pass the course\n",
        "TotalFee = math.ceil(CourseLength/MyPace)*MonthlyFee # counting the fee\n",
        "print('For Data Science course you will pay in total',TotalFee,'$.') # output the values.\n",
        "\n",
        "```\n",
        "\n",
        "* So go on\n",
        "   \n",
        "   `Try it if you can`\n",
        "   \n",
        "   \n",
        "* Here is the link to course: [IBM Data Science Professional Certificate](https://www.coursera.org/professional-certificates/ibm-data-science \"Enroll\")\n",
        "  \n",
        "# The example of `wrong` marketing:  \"Did you know Watson is gay?\" or \"How to make homophobia stronger?\"\n",
        "![alt text][logo]\n",
        "\n",
        "[logo]: https://i.imgur.com/Tm1Gm8x.jpg \"IBM company had some problems and wants to hype by doing wrong maketing like this\"\n",
        "   \n",
        "   >“The purpose of life is finding the largest burden that you can bear and bearing it.”\n",
        "― Jordan B. Peterson\n",
        "\n",
        "~~Pharmaceutical fentanyl is a synthetic opioid pain reliever, approved for treating severe pain, typically advanced cancer pain.1 It is 50 to 100 times more potent than morphine. It is prescribed in the form of transdermal patches or lozenges and can be diverted for misuse and abuse in the United States.~~\n"
      ]
    },
    {
      "cell_type": "code",
      "execution_count": null,
      "metadata": {
        "id": "OB8xNKEP2utq"
      },
      "outputs": [],
      "source": []
    }
  ],
  "metadata": {
    "kernelspec": {
      "display_name": "Python 3.6",
      "language": "python",
      "name": "python3"
    },
    "language_info": {
      "codemirror_mode": {
        "name": "ipython",
        "version": 3
      },
      "file_extension": ".py",
      "mimetype": "text/x-python",
      "name": "python",
      "nbconvert_exporter": "python",
      "pygments_lexer": "ipython3",
      "version": "3.6.9"
    },
    "colab": {
      "provenance": []
    }
  },
  "nbformat": 4,
  "nbformat_minor": 0
}